{
 "cells": [
  {
   "cell_type": "markdown",
   "metadata": {},
   "source": [
    "# Response metadata\n",
    "\n",
    "Many model providers include some metadata in their chat generation responses. This metadata can be accessed via the `AIMessage.response_metadata` attribute. Depending on the model provider and model configuration, this can contain information like [token counts](/docs/modules/model_io/chat/token_usage_tracking/) and more.\n",
    "\n",
    "Here’s what the response metadata looks like for a few different providers:\n",
    "\n",
    "## OpenAI"
   ]
  },
  {
   "cell_type": "code",
   "execution_count": 1,
   "metadata": {},
   "outputs": [
    {
     "name": "stdout",
     "output_type": "stream",
     "text": [
      "{\n",
      "  tokenUsage: { completionTokens: 164, promptTokens: 17, totalTokens: 181 },\n",
      "  finish_reason: \"stop\"\n",
      "}\n"
     ]
    }
   ],
   "source": [
    "import { ChatOpenAI } from \"@langchain/openai\";\n",
    "\n",
    "const chatModel = new ChatOpenAI({ model: \"gpt-4-turbo\" });\n",
    "const message = await chatModel.invoke([\n",
    "  [\"human\", \"What's the oldest known example of cuneiform\"],\n",
    "]);\n",
    "\n",
    "console.log(message.response_metadata);"
   ]
  },
  {
   "cell_type": "markdown",
   "metadata": {},
   "source": [
    "## Anthropic"
   ]
  },
  {
   "cell_type": "code",
   "execution_count": 2,
   "metadata": {},
   "outputs": [
    {
     "name": "stdout",
     "output_type": "stream",
     "text": [
      "{\n",
      "  id: \"msg_01K8kC9wskG6qsSGRmY7b3kj\",\n",
      "  model: \"claude-3-sonnet-20240229\",\n",
      "  stop_sequence: null,\n",
      "  usage: { input_tokens: 17, output_tokens: 355 },\n",
      "  stop_reason: \"end_turn\"\n",
      "}\n"
     ]
    }
   ],
   "source": [
    "import { ChatAnthropic } from \"@langchain/anthropic\";\n",
    "\n",
    "const chatModel = new ChatAnthropic({ model: \"claude-3-sonnet-20240229\" });\n",
    "const message = await chatModel.invoke([\n",
    "  [\"human\", \"What's the oldest known example of cuneiform\"],\n",
    "]);\n",
    "\n",
    "console.log(message.response_metadata);"
   ]
  },
  {
   "cell_type": "markdown",
   "metadata": {},
   "source": [
    "## Google VertexAI"
   ]
  },
  {
   "cell_type": "code",
   "execution_count": 3,
   "metadata": {},
   "outputs": [
    {
     "name": "stdout",
     "output_type": "stream",
     "text": [
      "{\n",
      "  usage_metadata: {\n",
      "    prompt_token_count: undefined,\n",
      "    candidates_token_count: undefined,\n",
      "    total_token_count: undefined\n",
      "  },\n",
      "  safety_ratings: [\n",
      "    {\n",
      "      category: \"HARM_CATEGORY_HATE_SPEECH\",\n",
      "      probability: \"NEGLIGIBLE\",\n",
      "      probability_score: 0.027480692,\n",
      "      severity: \"HARM_SEVERITY_NEGLIGIBLE\",\n",
      "      severity_score: 0.073430054\n",
      "    },\n",
      "    {\n",
      "      category: \"HARM_CATEGORY_DANGEROUS_CONTENT\",\n",
      "      probability: \"NEGLIGIBLE\",\n",
      "      probability_score: 0.055412795,\n",
      "      severity: \"HARM_SEVERITY_NEGLIGIBLE\",\n",
      "      severity_score: 0.112405084\n",
      "    },\n",
      "    {\n",
      "      category: \"HARM_CATEGORY_HARASSMENT\",\n",
      "      probability: \"NEGLIGIBLE\",\n",
      "      probability_score: 0.055720285,\n",
      "      severity: \"HARM_SEVERITY_NEGLIGIBLE\",\n",
      "      severity_score: 0.020844316\n",
      "    },\n",
      "    {\n",
      "      category: \"HARM_CATEGORY_SEXUALLY_EXPLICIT\",\n",
      "      probability: \"NEGLIGIBLE\",\n",
      "      probability_score: 0.05223086,\n",
      "      severity: \"HARM_SEVERITY_NEGLIGIBLE\",\n",
      "      severity_score: 0.14891148\n",
      "    }\n",
      "  ],\n",
      "  finish_reason: undefined\n",
      "}\n"
     ]
    }
   ],
   "source": [
    "import { ChatVertexAI } from \"@langchain/google-vertexai-web\";\n",
    "\n",
    "const chatModel = new ChatVertexAI({ model: \"gemini-pro\" });\n",
    "const message = await chatModel.invoke([\n",
    "  [\"human\", \"What's the oldest known example of cuneiform\"],\n",
    "]);\n",
    "\n",
    "console.log(message.response_metadata);"
   ]
  },
  {
   "cell_type": "markdown",
   "metadata": {},
   "source": [
    "## MistralAI"
   ]
  },
  {
   "cell_type": "code",
   "execution_count": 4,
   "metadata": {},
   "outputs": [
    {
     "name": "stdout",
     "output_type": "stream",
     "text": [
      "{\n",
      "  tokenUsage: { completionTokens: 166, promptTokens: 19, totalTokens: 185 },\n",
      "  finish_reason: \"stop\"\n",
      "}\n"
     ]
    }
   ],
   "source": [
    "import { ChatMistralAI } from \"@langchain/mistralai\";\n",
    "\n",
    "const chatModel = new ChatMistralAI({ model: \"mistral-tiny\" });\n",
    "const message = await chatModel.invoke([\n",
    "  [\"human\", \"What's the oldest known example of cuneiform\"],\n",
    "]);\n",
    "\n",
    "console.log(message.response_metadata);"
   ]
  }
 ],
 "metadata": {
  "kernelspec": {
   "display_name": "Deno",
   "language": "typescript",
   "name": "deno"
  },
  "language_info": {
   "file_extension": ".ts",
   "mimetype": "text/x.typescript",
   "name": "typescript",
   "nb_converter": "script",
   "pygments_lexer": "typescript",
   "version": "5.3.3"
  }
 },
 "nbformat": 4,
 "nbformat_minor": 2
}
